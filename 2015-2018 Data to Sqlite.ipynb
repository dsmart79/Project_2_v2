{
 "cells": [
  {
   "cell_type": "code",
   "execution_count": 1,
   "metadata": {},
   "outputs": [],
   "source": [
    "# Imports\n",
    "import pandas as pd\n",
    "import os\n",
    "import sqlite3\n",
    "from sqlite3 import Error\n",
    "from sqlalchemy.orm import Session\n",
    "from sqlalchemy import create_engine, inspect\n",
    "from sqlalchemy.ext.declarative import declarative_base\n",
    "from sqlalchemy import Column, Integer, String\n",
    "import sqlalchemy as db"
   ]
  },
  {
   "cell_type": "markdown",
   "metadata": {},
   "source": [
    "## CSV to DataFrame"
   ]
  },
  {
   "cell_type": "code",
   "execution_count": 2,
   "metadata": {
    "scrolled": true
   },
   "outputs": [],
   "source": [
    "# import CSVs \n",
    "health15_df = pd.read_csv('./CSVs/Health_Ins_2015.csv')\n",
    "health16_df = pd.read_csv('./CSVs/Health_Ins_2016.csv')\n",
    "health17_df = pd.read_csv('./CSVs/Health_Ins_2017.csv')\n",
    "health18_df = pd.read_csv('./CSVs/Health_Ins_2018.csv')\n",
    "iowa_counties = pd.read_csv('./CSVs/IA_counties.csv')\n",
    "ky_counties = pd.read_csv('./CSVs/KY_FIPS.csv')"
   ]
  },
  {
   "cell_type": "code",
   "execution_count": 3,
   "metadata": {},
   "outputs": [],
   "source": [
    "# rename columns\n",
    "health15_df = health15_df[['State Code','County Name','Metal Level','Issuer Name','Plan Type']]\n",
    "health16_df = health16_df[['State Code','County Name','Metal Level','Issuer Name','Plan Type']]"
   ]
  },
  {
   "cell_type": "code",
   "execution_count": 4,
   "metadata": {},
   "outputs": [],
   "source": [
    "#lowercase county names for lookups\n",
    "health15_df['County Name'] = health15_df['County Name'].str.lower()\n",
    "health16_df['County Name'] = health16_df['County Name'].str.lower()\n",
    "health17_df['County Name'] = health17_df['County Name'].str.lower()\n",
    "health18_df['County Name'] = health18_df['County Name'].str.lower()"
   ]
  },
  {
   "cell_type": "code",
   "execution_count": 5,
   "metadata": {},
   "outputs": [],
   "source": [
    "ky_counties['County'] = ky_counties['County'].str.lower()\n",
    "ky_counties['County'] = ky_counties['County'].str.replace('-','')\n",
    "ky_counties['County'] = ky_counties['County'].str.replace(' ','')\n",
    "ky_counties['Lookup'] = (ky_counties['County'] + ky_counties['State'])\n",
    "ky_counties = ky_counties[['Lookup','FIPS']]\n",
    "ky_counties.columns = ['Lookup','fips']"
   ]
  },
  {
   "cell_type": "code",
   "execution_count": 6,
   "metadata": {},
   "outputs": [],
   "source": [
    "#combine state codes and county names for lookups\n",
    "health15_df['Lookup'] = (health15_df['State Code'] + health15_df['County Name']).astype(str)\n",
    "health15_df['Lookup'] = health15_df['Lookup'].str.replace('-','')\n",
    "health15_df['Lookup'] = health15_df['Lookup'].str.replace(' ','')\n",
    "health16_df['Lookup'] = (health16_df['State Code'] + health16_df['County Name']).astype(str)\n",
    "health16_df['Lookup'] = health16_df['Lookup'].str.replace('-','')\n",
    "health16_df['Lookup'] = health16_df['Lookup'].str.replace(' ','')\n",
    "health17_df['Lookup'] = (health17_df['State Code'] + health17_df['County Name']).astype(str)\n",
    "health17_df['Lookup'] = health17_df['Lookup'].str.replace('-','')\n",
    "health17_df['Lookup'] = health17_df['Lookup'].str.replace(' ','')\n",
    "health18_df['Lookup'] = (health18_df['State Code'] + health18_df['County Name']).astype(str)\n",
    "health18_df['Lookup'] = health18_df['Lookup'].str.replace('-','')\n",
    "health18_df['Lookup'] = health18_df['Lookup'].str.replace(' ','')"
   ]
  },
  {
   "cell_type": "code",
   "execution_count": 7,
   "metadata": {},
   "outputs": [],
   "source": [
    "lookup17 = health17_df[['Lookup','FIPS County Code']]\n",
    "lookup17.columns = ['Lookup', 'fips']"
   ]
  },
  {
   "cell_type": "code",
   "execution_count": 8,
   "metadata": {},
   "outputs": [],
   "source": [
    "#build lookup table from 2017 fips info\n",
    "unique_lookup = lookup17.Lookup.unique()\n",
    "unique_fips = lookup17.fips.unique()\n",
    "lookup_table = []\n",
    "\n",
    "counter = 0\n",
    "while counter < len(unique_lookup):\n",
    "    fips_lookups = {'fips':unique_fips[counter],'Lookup':unique_lookup[counter]}\n",
    "    lookup_table.append(fips_lookups)\n",
    "    counter = counter + 1\n",
    "    \n",
    "lookup_table = pd.DataFrame(lookup_table)"
   ]
  },
  {
   "cell_type": "code",
   "execution_count": 9,
   "metadata": {
    "scrolled": true
   },
   "outputs": [],
   "source": [
    "#add missing counties to lookup table\n",
    "lookup_table = lookup_table.append({'Lookup':'IAclinton','fips':'19045'},ignore_index=True)\n",
    "lookup_table = lookup_table.append({'Lookup':'IAclark','fips':'19039'},ignore_index=True)\n",
    "lookup_table = lookup_table.append({'Lookup':'IAchickasaw','fips':'19037'},ignore_index=True)\n",
    "lookup_table = lookup_table.append({'Lookup':'IAcherokee','fips':'19035'},ignore_index=True)\n",
    "lookup_table = lookup_table.append({'Lookup':'IAcerrogordo','fips':'19033'},ignore_index=True)\n",
    "lookup_table = lookup_table.append({'Lookup':'IAcedar','fips':'19031'},ignore_index=True)\n",
    "lookup_table = lookup_table.append({'Lookup':'IAcass','fips':'19029'},ignore_index=True)\n",
    "lookup_table = lookup_table.append(iowa_counties)\n",
    "lookup_table = lookup_table.append(ky_counties)"
   ]
  },
  {
   "cell_type": "code",
   "execution_count": 10,
   "metadata": {},
   "outputs": [],
   "source": [
    "#merge in lookup table to 15 and 16 data to add fips column\n",
    "l_15 = health15_df.merge(lookup_table,on='Lookup',how='left')\n",
    "l_16 = health16_df.merge(lookup_table,on='Lookup',how='left')"
   ]
  },
  {
   "cell_type": "code",
   "execution_count": 11,
   "metadata": {},
   "outputs": [],
   "source": [
    "lookup16 = l_16[['Lookup','fips']]"
   ]
  },
  {
   "cell_type": "code",
   "execution_count": 12,
   "metadata": {},
   "outputs": [],
   "source": [
    "health17_df = health17_df[['State Code','County Name','Metal Level','Issuer Name','Plan Type','Lookup']]\n",
    "health17_df = health17_df.merge(lookup16,on='Lookup',how='left')\n",
    "health18_df = health18_df[['State Code','County Name','Metal Level','Issuer Name','Plan Type','Lookup']]\n",
    "health18_df = health18_df.merge(lookup16,on='Lookup',how='left')"
   ]
  },
  {
   "cell_type": "code",
   "execution_count": 13,
   "metadata": {},
   "outputs": [],
   "source": [
    "#remove lookup column and standardize order and names\n",
    "health15_df = l_15[['State Code','County Name','Metal Level','Issuer Name','Plan Type','fips']]\n",
    "health15_df.columns = ['State Code','County Name','Metal Level','Issuer Name','Plan Type','Fips']\n",
    "health16_df = l_16[['State Code','County Name','Metal Level','Issuer Name','Plan Type','fips']]\n",
    "health16_df.columns = ['State Code','County Name','Metal Level','Issuer Name','Plan Type','Fips']\n",
    "health17_df = health17_df[['State Code','County Name','Metal Level','Issuer Name','Plan Type','fips']]\n",
    "health17_df.columns = ['State Code','County Name','Metal Level','Issuer Name','Plan Type','Fips']\n",
    "health18_df = health18_df[['State Code','County Name','Metal Level','Issuer Name','Plan Type','fips']]\n",
    "health18_df.columns = ['State Code','County Name','Metal Level','Issuer Name','Plan Type','Fips']"
   ]
  },
  {
   "cell_type": "code",
   "execution_count": 14,
   "metadata": {},
   "outputs": [],
   "source": [
    "#Write dfs out as objects to add to db\n",
    "pointer = health15_df\n",
    "counter = 0\n",
    "values_list15 = []\n",
    "for record in pointer.iterrows():\n",
    "    values_list15.append({'State Code':pointer['State Code'][counter], 'County Name':pointer['County Name'][counter], 'Metal Level':pointer['Metal Level'][counter],'Issuer Name':pointer['Issuer Name'][counter],'Plan Type':pointer['Plan Type'][counter],'FIPS':pointer['Fips'][counter]})\n",
    "    counter = counter + 1\n",
    "    \n",
    "pointer = health16_df\n",
    "counter = 0\n",
    "values_list16 = []\n",
    "for record in pointer.iterrows():\n",
    "    values_list16.append({'State Code':pointer['State Code'][counter], 'County Name':pointer['County Name'][counter], 'Metal Level':pointer['Metal Level'][counter],'Issuer Name':pointer['Issuer Name'][counter],'Plan Type':pointer['Plan Type'][counter],'FIPS':pointer['Fips'][counter]})\n",
    "    counter = counter + 1\n",
    "    \n",
    "pointer = health17_df\n",
    "counter = 0\n",
    "values_list17 = []\n",
    "for record in pointer.iterrows():\n",
    "    values_list17.append({'State Code':pointer['State Code'][counter], 'County Name':pointer['County Name'][counter], 'Metal Level':pointer['Metal Level'][counter],'Issuer Name':pointer['Issuer Name'][counter],'Plan Type':pointer['Plan Type'][counter],'FIPS':pointer['Fips'][counter]})\n",
    "    counter = counter + 1\n",
    "    \n",
    "pointer = health18_df\n",
    "counter = 0\n",
    "values_list18 = []\n",
    "for record in pointer.iterrows():\n",
    "    values_list18.append({'State Code':pointer['State Code'][counter], 'County Name':pointer['County Name'][counter], 'Metal Level':pointer['Metal Level'][counter],'Issuer Name':pointer['Issuer Name'][counter],'Plan Type':pointer['Plan Type'][counter],'FIPS':pointer['Fips'][counter]})\n",
    "    counter = counter + 1"
   ]
  },
  {
   "cell_type": "code",
   "execution_count": 15,
   "metadata": {},
   "outputs": [],
   "source": [
    "#Create sqlite DB\n",
    "engine = create_engine('sqlite:///static/health_plans.sqlite')\n",
    "\n",
    "connection = engine.connect()\n",
    "metadata = db.MetaData()\n",
    "\n",
    "h15 = db.Table('h15', metadata,\n",
    "               db.Column('State Code', db.String(255)),\n",
    "               db.Column('County Name', db.String(255)),\n",
    "               db.Column('Metal Level', db.String(255)),\n",
    "               db.Column('Issuer Name',db.String(255)),\n",
    "               db.Column('Plan Type',db.String(255)),\n",
    "               db.Column('FIPS',db.Integer())\n",
    "              )\n",
    "\n",
    "h16 = db.Table('h16', metadata,\n",
    "               db.Column('State Code', db.String(255)),\n",
    "               db.Column('County Name', db.String(255)),\n",
    "               db.Column('Metal Level', db.String(255)),\n",
    "               db.Column('Issuer Name',db.String(255)),\n",
    "               db.Column('Plan Type',db.String(255)),\n",
    "               db.Column('FIPS',db.Integer())\n",
    "              )\n",
    "\n",
    "h17 = db.Table('h17', metadata,\n",
    "               db.Column('State Code', db.String(255)),\n",
    "               db.Column('County Name', db.String(255)),\n",
    "               db.Column('Metal Level', db.String(255)),\n",
    "               db.Column('Issuer Name',db.String(255)),\n",
    "               db.Column('Plan Type',db.String(255)),\n",
    "               db.Column('FIPS',db.Integer())\n",
    "              )\n",
    "\n",
    "h18 = db.Table('h18', metadata,\n",
    "               db.Column('State Code', db.String(255)),\n",
    "               db.Column('County Name', db.String(255)),\n",
    "               db.Column('Metal Level', db.String(255)),\n",
    "               db.Column('Plan Type',db.String(255)),\n",
    "               db.Column('Issuer Name',db.String(255)),\n",
    "               db.Column('FIPS',db.Integer())\n",
    "              )\n",
    "\n",
    "metadata.create_all(engine)"
   ]
  },
  {
   "cell_type": "code",
   "execution_count": 16,
   "metadata": {
    "scrolled": true
   },
   "outputs": [],
   "source": [
    "#make db connections and write in objects for each year\n",
    "engine = db.create_engine('sqlite:///static/health_plans.sqlite')\n",
    "connection = engine.connect()\n",
    "metadata = db.MetaData()\n",
    "h15 = db.Table('h15', metadata, autoload=True,autoload_with=engine)\n",
    "\n",
    "query = db.insert(h15)\n",
    "ResultProxy = connection.execute(query,values_list15)\n",
    "\n",
    "engine = db.create_engine('sqlite:///static/health_plans.sqlite')\n",
    "connection = engine.connect()\n",
    "metadata = db.MetaData()\n",
    "h16 = db.Table('h16', metadata, autoload=True,autoload_with=engine)\n",
    "\n",
    "query = db.insert(h16)\n",
    "ResultProxy = connection.execute(query,values_list16)\n",
    "\n",
    "engine = db.create_engine('sqlite:///static/health_plans.sqlite')\n",
    "connection = engine.connect()\n",
    "metadata = db.MetaData()\n",
    "h17= db.Table('h17', metadata, autoload=True,autoload_with=engine)\n",
    "\n",
    "query = db.insert(h17)\n",
    "ResultProxy = connection.execute(query,values_list17)\n",
    "\n",
    "engine = db.create_engine('sqlite:///static/health_plans.sqlite')\n",
    "connection = engine.connect()\n",
    "metadata = db.MetaData()\n",
    "\n",
    "h18 = db.Table('h18', metadata, autoload=True,autoload_with=engine)\n",
    "query = db.insert(h18)\n",
    "ResultProxy = connection.execute(query,values_list18)"
   ]
  },
  {
   "cell_type": "code",
   "execution_count": null,
   "metadata": {},
   "outputs": [],
   "source": []
  }
 ],
 "metadata": {
  "kernelspec": {
   "display_name": "Python [conda env:PythonData] *",
   "language": "python",
   "name": "conda-env-PythonData-py"
  },
  "language_info": {
   "codemirror_mode": {
    "name": "ipython",
    "version": 3
   },
   "file_extension": ".py",
   "mimetype": "text/x-python",
   "name": "python",
   "nbconvert_exporter": "python",
   "pygments_lexer": "ipython3",
   "version": "3.6.8"
  }
 },
 "nbformat": 4,
 "nbformat_minor": 2
}
